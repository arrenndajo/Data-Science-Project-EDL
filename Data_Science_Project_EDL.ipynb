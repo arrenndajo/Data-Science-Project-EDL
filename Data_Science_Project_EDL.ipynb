{
  "nbformat": 4,
  "nbformat_minor": 0,
  "metadata": {
    "colab": {
      "provenance": []
    },
    "kernelspec": {
      "name": "python3",
      "display_name": "Python 3"
    },
    "language_info": {
      "name": "python"
    }
  },
  "cells": [
    {
      "cell_type": "markdown",
      "source": [
        "Exposys Data Labs - Data Science Project"
      ],
      "metadata": {
        "id": "ZR3m4iw26mrB"
      }
    },
    {
      "cell_type": "code",
      "source": [
        "# Importing libraries\n",
        "\n",
        "import numpy as np\n",
        "import pandas as pd"
      ],
      "metadata": {
        "id": "gpkzSy3D8EC0"
      },
      "execution_count": null,
      "outputs": []
    },
    {
      "cell_type": "code",
      "execution_count": null,
      "metadata": {
        "colab": {
          "base_uri": "https://localhost:8080/"
        },
        "id": "U136xQPd43ae",
        "outputId": "f95f3ac6-0ab4-495b-ed7a-16cd3e764abe"
      },
      "outputs": [
        {
          "output_type": "stream",
          "name": "stdout",
          "text": [
            "Dataset.head() \n",
            "     R&D Spend  Administration  Marketing Spend     Profit\n",
            "0  165349.20       136897.80        471784.10  192261.83\n",
            "1  162597.70       151377.59        443898.53  191792.06\n",
            "2  153441.51       101145.55        407934.54  191050.39\n",
            "3  144372.41       118671.85        383199.62  182901.99\n",
            "4  142107.34        91391.77        366168.42  166187.94\n"
          ]
        }
      ],
      "source": [
        "# Loading Data\n",
        "\n",
        "dataset = pd.read_csv(\"/content/drive/MyDrive/Copy of 50_Startups.csv\")\n",
        "print(\"Dataset.head() \\n \", dataset.head())"
      ]
    },
    {
      "cell_type": "code",
      "source": [
        "# Checking the size of the Dataset\n",
        "\n",
        "print(\"Dataset Info: \\n\")\n",
        "print(dataset.info())"
      ],
      "metadata": {
        "colab": {
          "base_uri": "https://localhost:8080/"
        },
        "id": "Gw_UTxw79XEm",
        "outputId": "50527de9-6691-4a7a-eaf2-23b4e6b74dfc"
      },
      "execution_count": null,
      "outputs": [
        {
          "output_type": "stream",
          "name": "stdout",
          "text": [
            "Dataset Info: \n",
            "\n",
            "<class 'pandas.core.frame.DataFrame'>\n",
            "RangeIndex: 50 entries, 0 to 49\n",
            "Data columns (total 4 columns):\n",
            " #   Column           Non-Null Count  Dtype  \n",
            "---  ------           --------------  -----  \n",
            " 0   R&D Spend        50 non-null     float64\n",
            " 1   Administration   50 non-null     float64\n",
            " 2   Marketing Spend  50 non-null     float64\n",
            " 3   Profit           50 non-null     float64\n",
            "dtypes: float64(4)\n",
            "memory usage: 1.7 KB\n",
            "None\n"
          ]
        }
      ]
    },
    {
      "cell_type": "code",
      "source": [
        "# Input values\n",
        "\n",
        "x = dataset.iloc[:, :-1].values\n",
        "print(\"First 10 Spend Values : \\n\", x[0:10, :])"
      ],
      "metadata": {
        "colab": {
          "base_uri": "https://localhost:8080/"
        },
        "id": "Ner06biX8ccP",
        "outputId": "fd885990-ef41-4cc4-a835-8195fd4ac011"
      },
      "execution_count": null,
      "outputs": [
        {
          "output_type": "stream",
          "name": "stdout",
          "text": [
            "First 10 Spend Values : \n",
            " [[165349.2  136897.8  471784.1 ]\n",
            " [162597.7  151377.59 443898.53]\n",
            " [153441.51 101145.55 407934.54]\n",
            " [144372.41 118671.85 383199.62]\n",
            " [142107.34  91391.77 366168.42]\n",
            " [131876.9   99814.71 362861.36]\n",
            " [134615.46 147198.87 127716.82]\n",
            " [130298.13 145530.06 323876.68]\n",
            " [120542.52 148718.95 311613.29]\n",
            " [123334.88 108679.17 304981.62]]\n"
          ]
        }
      ]
    },
    {
      "cell_type": "code",
      "source": [
        "# Input values\n",
        "x = dataset.iloc[:, :-1].values\n",
        "print(\"First 10 Spend Values: \\n\", x[0:10, :])\n",
        "\n",
        "\n",
        "# Output values\n",
        "y = dataset.iloc[:, 3].values\n",
        "y1 = y\n",
        "y1 = y1.reshape(-1, 1)\n",
        "print(\"\\nFirst 10 Profit Values: \\n\", y1[0:10, :])"
      ],
      "metadata": {
        "colab": {
          "base_uri": "https://localhost:8080/"
        },
        "id": "IQfDeDXR9oaa",
        "outputId": "fde558bd-5d91-403f-c46f-c8dcf1d5fcef"
      },
      "execution_count": null,
      "outputs": [
        {
          "output_type": "stream",
          "name": "stdout",
          "text": [
            "First 10 Spend Values: \n",
            " [[165349.2  136897.8  471784.1 ]\n",
            " [162597.7  151377.59 443898.53]\n",
            " [153441.51 101145.55 407934.54]\n",
            " [144372.41 118671.85 383199.62]\n",
            " [142107.34  91391.77 366168.42]\n",
            " [131876.9   99814.71 362861.36]\n",
            " [134615.46 147198.87 127716.82]\n",
            " [130298.13 145530.06 323876.68]\n",
            " [120542.52 148718.95 311613.29]\n",
            " [123334.88 108679.17 304981.62]]\n",
            "\n",
            "First 10 Profit Values: \n",
            " [[192261.83]\n",
            " [191792.06]\n",
            " [191050.39]\n",
            " [182901.99]\n",
            " [166187.94]\n",
            " [156991.12]\n",
            " [156122.51]\n",
            " [155752.6 ]\n",
            " [152211.77]\n",
            " [149759.96]]\n"
          ]
        }
      ]
    },
    {
      "cell_type": "code",
      "source": [
        "# Splitting the data into training and testing data\n",
        "# Training : Testing = 80 : 20\n",
        "\n",
        "from sklearn.model_selection import train_test_split\n",
        "xtrain, xtest, ytrain, ytest = train_test_split(x, y, test_size = 0.2, random_state = 0)\n",
        "\n",
        "# Here, I'm using Multi Linear Regression for Feature Scaling\n",
        "\n",
        "\n",
        "# Fitting Multi Linear regression model to Training model\n",
        "from sklearn.linear_model import LinearRegression\n",
        "regressor = LinearRegression()\n",
        "regressor.fit(xtrain, ytrain)\n",
        "\n",
        "# Predicting the testing set results\n",
        "y_pred = regressor.predict(xtest)\n",
        "\n",
        "y_pred1 = y_pred\n",
        "y_pred1 = y_pred1.reshape(-1,1)\n",
        "\n",
        "print(\"Results for Linear Regression Prediction: \")\n",
        "print (\"\\nFirst 10 Predicted value : \\n\", y_pred1[0:10, :])"
      ],
      "metadata": {
        "colab": {
          "base_uri": "https://localhost:8080/"
        },
        "id": "4vYDLgbY-Jdg",
        "outputId": "b2c86c66-9f8a-4453-f0b5-6380f60ccbf9"
      },
      "execution_count": null,
      "outputs": [
        {
          "output_type": "stream",
          "name": "stdout",
          "text": [
            "Results for Linear Regression Prediction: \n",
            "\n",
            "First 10 Predicted value : \n",
            " [[103901.8969696 ]\n",
            " [132763.05993126]\n",
            " [133567.90370044]\n",
            " [ 72911.78976736]\n",
            " [179627.92567224]\n",
            " [115166.64864795]\n",
            " [ 67113.5769057 ]\n",
            " [ 98154.80686776]\n",
            " [114756.11555221]\n",
            " [169064.01408795]]\n"
          ]
        }
      ]
    }
  ]
}